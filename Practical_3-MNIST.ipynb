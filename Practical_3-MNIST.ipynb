{
  "cells": [
    {
      "cell_type": "markdown",
      "metadata": {
        "id": "_sdL-tfrWSP9"
      },
      "source": [
        "# Practical 3: MNIST\n",
        "\n",
        "This is the first task of Practical 3. Your task is to build a (convolutional) neural network to classify the handwritten digits from the MNIST dataset (http://yann.lecun.com/exdb/mnist/). \n",
        "\n",
        "You should get an accuracy of **at least 97%** to pass the practical. \n",
        "\n",
        "The model files might be too large to be uploaded to GitHub. \n",
        "Please use the following link to upload your models: https://seafile.ifi.uzh.ch/u/d/695f63e725b641ed8633/\n",
        "\n",
        "Name the model file `{repository_name}-MNIST.h5`. For example, if your repository is FDS22-M0, you should name the model file `FDS22-M0-MNIST.h5`. If you are not satisfied with the model you have uploaded, you can upload a new one with the same name. We will only look at the newest model. Nevertheless, try to upload as few times as possible, since the online drive has a limited amount of space. "
      ]
    },
    {
      "cell_type": "markdown",
      "metadata": {
        "id": "2dNqsGvpWSQA"
      },
      "source": [
        "## Import the libraries"
      ]
    },
    {
      "cell_type": "code",
      "execution_count": 1,
      "metadata": {
        "id": "Rrj63PWOWSQB"
      },
      "outputs": [],
      "source": [
        "import numpy as np\n",
        "import pandas as pd\n",
        "import matplotlib.pyplot as plt\n",
        "\n",
        "import tensorflow as tf\n",
        "from tensorflow import keras"
      ]
    },
    {
      "cell_type": "code",
      "execution_count": 2,
      "metadata": {
        "colab": {
          "base_uri": "https://localhost:8080/",
          "height": 35
        },
        "id": "PFU2162FWSQB",
        "outputId": "b78bccfc-4b5a-480d-e90d-3fc636c9e920"
      },
      "outputs": [
        {
          "output_type": "execute_result",
          "data": {
            "text/plain": [
              "'2.9.2'"
            ],
            "application/vnd.google.colaboratory.intrinsic+json": {
              "type": "string"
            }
          },
          "metadata": {},
          "execution_count": 2
        }
      ],
      "source": [
        "tf.__version__"
      ]
    },
    {
      "cell_type": "code",
      "execution_count": 3,
      "metadata": {
        "colab": {
          "base_uri": "https://localhost:8080/",
          "height": 35
        },
        "id": "ScXsiXdkWSQC",
        "outputId": "dd74ea85-1509-4327-ba0f-9db3435b627f"
      },
      "outputs": [
        {
          "output_type": "execute_result",
          "data": {
            "text/plain": [
              "'2.9.0'"
            ],
            "application/vnd.google.colaboratory.intrinsic+json": {
              "type": "string"
            }
          },
          "metadata": {},
          "execution_count": 3
        }
      ],
      "source": [
        "tf.keras.__version__"
      ]
    },
    {
      "cell_type": "markdown",
      "metadata": {
        "id": "r8Xh-wUNWSQD"
      },
      "source": [
        "## Prepare the dataset\n",
        "\n",
        "In this block, you will prepare the data for the training, such as normalisation. "
      ]
    },
    {
      "cell_type": "code",
      "execution_count": 4,
      "metadata": {
        "colab": {
          "base_uri": "https://localhost:8080/",
          "height": 320
        },
        "id": "Mrzrr5ICWSQD",
        "outputId": "c2776825-f904-43a9-b51e-d87cf57d95cf"
      },
      "outputs": [
        {
          "output_type": "stream",
          "name": "stdout",
          "text": [
            "Downloading data from https://storage.googleapis.com/tensorflow/tf-keras-datasets/mnist.npz\n",
            "11490434/11490434 [==============================] - 0s 0us/step\n"
          ]
        },
        {
          "output_type": "display_data",
          "data": {
            "text/plain": [
              "<Figure size 432x288 with 9 Axes>"
            ],
            "image/png": "[encoded data removed]"
          },
          "metadata": {
            "needs_background": "light"
          }
        },
        {
          "output_type": "execute_result",
          "data": {
            "text/plain": [
              "(60000, 28, 28)"
            ]
          },
          "metadata": {},
          "execution_count": 4
        }
      ],
      "source": [
        "from keras.datasets import mnist\n",
        "(X_train_full, y_train_full), (X_test, y_test) = mnist.load_data()\n",
        "\n",
        "for i in range(0,9):\n",
        "    plt.subplot(330 + 1 + i)\n",
        "    plt.imshow(X_train_full[i])\n",
        "plt.show()\n",
        "\n",
        "X_train_full.shape"
      ]
    },
    {
      "cell_type": "markdown",
      "metadata": {
        "id": "Fs_ueHwnWSQD"
      },
      "source": [
        "## Build and train the model\n",
        "\n",
        "Build and train your model. "
      ]
    },
    {
      "cell_type": "code",
      "execution_count": 5,
      "metadata": {
        "colab": {
          "base_uri": "https://localhost:8080/"
        },
        "id": "pfOHCyb8WSQE",
        "outputId": "3c4c2cc9-988c-4809-bceb-a2bec9c65743"
      },
      "outputs": [
        {
          "output_type": "stream",
          "name": "stdout",
          "text": [
            "Epoch 1/20\n",
            "1834/1834 [==============================] - 18s 9ms/step - loss: 0.3661 - accuracy: 0.8855 - val_loss: 0.1517 - val_accuracy: 0.9526\n",
            "Epoch 2/20\n",
            "1834/1834 [==============================] - 16s 9ms/step - loss: 0.2153 - accuracy: 0.9345 - val_loss: 0.1094 - val_accuracy: 0.9666\n",
            "Epoch 3/20\n",
            "1834/1834 [==============================] - 16s 9ms/step - loss: 0.1685 - accuracy: 0.9465 - val_loss: 0.1025 - val_accuracy: 0.9700\n",
            "Epoch 4/20\n",
            "1834/1834 [==============================] - 16s 9ms/step - loss: 0.1492 - accuracy: 0.9542 - val_loss: 0.0880 - val_accuracy: 0.9748\n",
            "Epoch 5/20\n",
            "1834/1834 [==============================] - 17s 9ms/step - loss: 0.1344 - accuracy: 0.9574 - val_loss: 0.0889 - val_accuracy: 0.9724\n",
            "Epoch 6/20\n",
            "1834/1834 [==============================] - 17s 9ms/step - loss: 0.1198 - accuracy: 0.9622 - val_loss: 0.0737 - val_accuracy: 0.9776\n",
            "Epoch 7/20\n",
            "1834/1834 [==============================] - 17s 9ms/step - loss: 0.1105 - accuracy: 0.9645 - val_loss: 0.0672 - val_accuracy: 0.9790\n",
            "Epoch 8/20\n",
            "1834/1834 [==============================] - 16s 9ms/step - loss: 0.1045 - accuracy: 0.9666 - val_loss: 0.0713 - val_accuracy: 0.9784\n",
            "Epoch 9/20\n",
            "1834/1834 [==============================] - 17s 9ms/step - loss: 0.0994 - accuracy: 0.9682 - val_loss: 0.0629 - val_accuracy: 0.9814\n",
            "Epoch 10/20\n",
            "1834/1834 [==============================] - 16s 9ms/step - loss: 0.0924 - accuracy: 0.9697 - val_loss: 0.0599 - val_accuracy: 0.9824\n",
            "Epoch 11/20\n",
            "1834/1834 [==============================] - 17s 9ms/step - loss: 0.0893 - accuracy: 0.9716 - val_loss: 0.0650 - val_accuracy: 0.9802\n",
            "Epoch 12/20\n",
            "1834/1834 [==============================] - 17s 9ms/step - loss: 0.0831 - accuracy: 0.9736 - val_loss: 0.0613 - val_accuracy: 0.9816\n",
            "Epoch 13/20\n",
            "1834/1834 [==============================] - 19s 10ms/step - loss: 0.0806 - accuracy: 0.9742 - val_loss: 0.0592 - val_accuracy: 0.9832\n",
            "Epoch 14/20\n",
            "1834/1834 [==============================] - 16s 9ms/step - loss: 0.0768 - accuracy: 0.9751 - val_loss: 0.0650 - val_accuracy: 0.9822\n",
            "Epoch 15/20\n",
            "1834/1834 [==============================] - 16s 9ms/step - loss: 0.0725 - accuracy: 0.9766 - val_loss: 0.0649 - val_accuracy: 0.9830\n",
            "Epoch 16/20\n",
            "1834/1834 [==============================] - 16s 9ms/step - loss: 0.0721 - accuracy: 0.9769 - val_loss: 0.0629 - val_accuracy: 0.9840\n",
            "Epoch 17/20\n",
            "1834/1834 [==============================] - 17s 9ms/step - loss: 0.0704 - accuracy: 0.9775 - val_loss: 0.0614 - val_accuracy: 0.9826\n",
            "Epoch 18/20\n",
            "1834/1834 [==============================] - 17s 9ms/step - loss: 0.0707 - accuracy: 0.9774 - val_loss: 0.0680 - val_accuracy: 0.9818\n",
            "Epoch 19/20\n",
            "1834/1834 [==============================] - 17s 9ms/step - loss: 0.0667 - accuracy: 0.9777 - val_loss: 0.0612 - val_accuracy: 0.9830\n",
            "Epoch 20/20\n",
            "1834/1834 [==============================] - 17s 9ms/step - loss: 0.0633 - accuracy: 0.9796 - val_loss: 0.0680 - val_accuracy: 0.9832\n"
          ]
        }
      ],
      "source": [
        "# TODO: Build your model\n",
        "X_train_full = X_train_full/255.0\n",
        "X_test = X_test/255.0\n",
        "\n",
        "\n",
        "y_train_full = keras.utils.to_categorical(y_train_full, num_classes=10)\n",
        "y_test = keras.utils.to_categorical(y_test, num_classes=10)\n",
        "\n",
        "np.random.seed(2) \n",
        "indices_shuffle = np.random.permutation(X_train_full.shape[0])\n",
        "X_validation, X_train = X_train_full[indices_shuffle[:5000]], X_train_full[indices_shuffle[5000:]]\n",
        "y_validation, y_train = y_train_full[indices_shuffle[:5000]], y_train_full[indices_shuffle[5000:]]\n",
        "\n",
        "model = keras.models.Sequential()\n",
        "model.add(keras.layers.Flatten(input_shape=[28, 28]))\n",
        "model.add(keras.layers.BatchNormalization()) \n",
        "model.add(keras.layers.Dropout(rate=0.2))\n",
        "model.add(keras.layers.Dense(300, activation=\"elu\", kernel_initializer=\"he_normal\"))\n",
        "model.add(keras.layers.BatchNormalization()) \n",
        "model.add(keras.layers.Dropout(rate=0.2))\n",
        "model.add(keras.layers.Dense(200, activation=\"elu\", kernel_initializer=\"he_normal\"))\n",
        "model.add(keras.layers.BatchNormalization()) \n",
        "model.add(keras.layers.Dropout(rate=0.2))\n",
        "model.add(keras.layers.Dense(200, activation=\"elu\", kernel_initializer=\"he_normal\"))\n",
        "model.add(keras.layers.BatchNormalization()) \n",
        "model.add(keras.layers.Dropout(rate=0.2))\n",
        "model.add(keras.layers.Dense(10, activation=\"softmax\"))\n",
        "\n",
        "model.compile(loss=\"categorical_crossentropy\",\n",
        "              optimizer=keras.optimizers.Adam(learning_rate=0.001),\n",
        "              metrics=[\"accuracy\"])\n",
        "\n",
        "history = model.fit(X_train, y_train, batch_size=30, epochs=20, validation_data=(X_validation, y_validation))"
      ]
    },
    {
      "cell_type": "code",
      "execution_count": 6,
      "metadata": {
        "colab": {
          "base_uri": "https://localhost:8080/"
        },
        "id": "opyTyZUrWSQE",
        "outputId": "d196d944-f2e7-41c3-ad7a-5af3634e07dc"
      },
      "outputs": [
        {
          "output_type": "stream",
          "name": "stdout",
          "text": [
            "Model: \"sequential\"\n",
            "_________________________________________________________________\n",
            " Layer (type)                Output Shape              Param #   \n",
            "=================================================================\n",
            " flatten (Flatten)           (None, 784)               0         \n",
            "                                                                 \n",
            " batch_normalization (BatchN  (None, 784)              3136      \n",
            " ormalization)                                                   \n",
            "                                                                 \n",
            " dropout (Dropout)           (None, 784)               0         \n",
            "                                                                 \n",
            " dense (Dense)               (None, 300)               235500    \n",
            "                                                                 \n",
            " batch_normalization_1 (Batc  (None, 300)              1200      \n",
            " hNormalization)                                                 \n",
            "                                                                 \n",
            " dropout_1 (Dropout)         (None, 300)               0         \n",
            "                                                                 \n",
            " dense_1 (Dense)             (None, 200)               60200     \n",
            "                                                                 \n",
            " batch_normalization_2 (Batc  (None, 200)              800       \n",
            " hNormalization)                                                 \n",
            "                                                                 \n",
            " dropout_2 (Dropout)         (None, 200)               0         \n",
            "                                                                 \n",
            " dense_2 (Dense)             (None, 200)               40200     \n",
            "                                                                 \n",
            " batch_normalization_3 (Batc  (None, 200)              800       \n",
            " hNormalization)                                                 \n",
            "                                                                 \n",
            " dropout_3 (Dropout)         (None, 200)               0         \n",
            "                                                                 \n",
            " dense_3 (Dense)             (None, 10)                2010      \n",
            "                                                                 \n",
            "=================================================================\n",
            "Total params: 343,846\n",
            "Trainable params: 340,878\n",
            "Non-trainable params: 2,968\n",
            "_________________________________________________________________\n"
          ]
        }
      ],
      "source": [
        "# show the structure of your model\n",
        "model.summary()"
      ]
    },
    {
      "cell_type": "code",
      "execution_count": 7,
      "metadata": {
        "colab": {
          "base_uri": "https://localhost:8080/",
          "height": 487
        },
        "id": "KU0KBc3xWSQE",
        "outputId": "cb606418-bc87-4715-b4ec-50f6a4229ddb"
      },
      "outputs": [
        {
          "output_type": "display_data",
          "data": {
            "text/plain": [
              "<Figure size 864x576 with 1 Axes>"
            ],
            "image/png": "[encoded data removed]"
          },
          "metadata": {
            "needs_background": "light"
          }
        }
      ],
      "source": [
        "# Assume you have stored the training history in the variable \"history\"\n",
        "# Show the learning curves\n",
        "pd.DataFrame(history.history).plot(figsize=(12, 8))\n",
        "plt.gca().set_ylim(0, 1)\n",
        "plt.grid(True)\n",
        "plt.show()"
      ]
    },
    {
      "cell_type": "markdown",
      "metadata": {
        "id": "BJRR1wkiWSQE"
      },
      "source": [
        "## Save the model\n",
        "\n",
        "Save and upload your trained model to the seafile link we provided to you. You can upload it multiple times. We will consider only the newest uploaded model. "
      ]
    },
    {
      "cell_type": "code",
      "execution_count": 8,
      "metadata": {
        "id": "RMVjmTfvWSQF"
      },
      "outputs": [],
      "source": [
        "model.save('FDS22-M063-MNIST.h5') # change the file name according to your repository name"
      ]
    },
    {
      "cell_type": "markdown",
      "metadata": {
        "id": "IlnsB0VtWSQF"
      },
      "source": [
        "## Load the model and evaluate it on the test data"
      ]
    },
    {
      "cell_type": "code",
      "execution_count": 10,
      "metadata": {
        "id": "VyjTCmxgWSQF",
        "colab": {
          "base_uri": "https://localhost:8080/"
        },
        "outputId": "786a5e22-5dbe-4256-afec-1c4adeda9ad9"
      },
      "outputs": [
        {
          "output_type": "stream",
          "name": "stdout",
          "text": [
            "313/313 [==============================] - 1s 3ms/step - loss: 0.0684 - accuracy: 0.9819\n"
          ]
        },
        {
          "output_type": "execute_result",
          "data": {
            "text/plain": [
              "[0.06836476922035217, 0.9818999767303467]"
            ]
          },
          "metadata": {},
          "execution_count": 10
        }
      ],
      "source": [
        "model = keras.models.load_model(\"FDS22-M063-MNIST.h5\")\n",
        "model.evaluate(X_test, y_test)"
      ]
    },
    {
      "cell_type": "markdown",
      "metadata": {
        "id": "gsCC0XL3WSQF"
      },
      "source": [
        "## Short report\n",
        "\n",
        "Please write a few sentences explaining how you build and train the model. Please include the decisions you made, such as why you use x number layers and the difficulties you met. \n",
        "\n",
        "\n",
        "The model was designed with an input layer based on the shape of the data, 28x28. After testing various numbers of hidden layers, we chose to use three layers with 300 nodes in the first layer and 200 nodes in the remaining two. The output layer has 10 nodes, corresponding to the expected output dimensions (0-9). To optimize performance, we applied batch normalization and used the ADAM optimization algorithm with a learning rate of 0.001. The activation function chosen was the exponential linear unit (elu). Dropout layers with a dropout rate of 0.2 were also implemented to prevent overfitting. The resulting model achieved an accuracy of 97.96% on the training data, 98.32% on the validation data, and 98.19% on the test data. Hyperparameter optimization, such as determining the appropriate batch size and number of epochs, was a time-intensive process. Which required a lot of time."
      ]
    }
  ],
  "metadata": {
    "kernelspec": {
      "display_name": "Python 3",
      "language": "python",
      "name": "python3"
    },
    "language_info": {
      "codemirror_mode": {
        "name": "ipython",
        "version": 3
      },
      "file_extension": ".py",
      "mimetype": "text/x-python",
      "name": "python",
      "nbconvert_exporter": "python",
      "pygments_lexer": "ipython3",
      "version": "3.8.3"
    },
    "colab": {
      "provenance": []
    }
  },
  "nbformat": 4,
  "nbformat_minor": 0
}